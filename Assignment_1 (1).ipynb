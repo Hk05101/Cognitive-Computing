{
  "nbformat": 4,
  "nbformat_minor": 0,
  "metadata": {
    "colab": {
      "provenance": []
    },
    "kernelspec": {
      "name": "python3",
      "display_name": "Python 3"
    },
    "language_info": {
      "name": "python"
    }
  },
  "cells": [
    {
      "cell_type": "markdown",
      "source": [
        "Ques 1"
      ],
      "metadata": {
        "id": "hrPrcXDF4kZQ"
      }
    },
    {
      "cell_type": "code",
      "source": [
        "print(\"Harnoor Kaur\")\n",
        "print(\"Harnoor Kaur\")\n",
        "print(\"Harnoor Kaur\")"
      ],
      "metadata": {
        "colab": {
          "base_uri": "https://localhost:8080/"
        },
        "id": "z7I-8le34o9a",
        "outputId": "6a726b57-ee7e-4065-94f0-5013f64f7261"
      },
      "execution_count": 2,
      "outputs": [
        {
          "output_type": "stream",
          "name": "stdout",
          "text": [
            "Harnoor Kaur\n",
            "Harnoor Kaur\n",
            "Harnoor Kaur\n"
          ]
        }
      ]
    },
    {
      "cell_type": "markdown",
      "source": [
        "Ques 2"
      ],
      "metadata": {
        "id": "mdx5jrkX5HzT"
      }
    },
    {
      "cell_type": "code",
      "source": [
        "a=3\n",
        "b=4\n",
        "c=5\n",
        "print(a+b+c)"
      ],
      "metadata": {
        "colab": {
          "base_uri": "https://localhost:8080/"
        },
        "id": "8DMKvAUs5bsz",
        "outputId": "85b46ad5-f61f-42a2-f888-ec7b89c29065"
      },
      "execution_count": 3,
      "outputs": [
        {
          "output_type": "stream",
          "name": "stdout",
          "text": [
            "12\n"
          ]
        }
      ]
    },
    {
      "cell_type": "code",
      "source": [
        "i='God '\n",
        "j='is '\n",
        "k='omnipresent'\n",
        "print(i+j+k)"
      ],
      "metadata": {
        "colab": {
          "base_uri": "https://localhost:8080/"
        },
        "id": "Dng0KrxD5p3C",
        "outputId": "faadc7ba-a94e-4538-87a4-5ad3eceaad12"
      },
      "execution_count": 5,
      "outputs": [
        {
          "output_type": "stream",
          "name": "stdout",
          "text": [
            "God is omnipresent\n"
          ]
        }
      ]
    },
    {
      "cell_type": "markdown",
      "source": [
        "Ques 3"
      ],
      "metadata": {
        "id": "6Z-l0suz6lwO"
      }
    },
    {
      "cell_type": "code",
      "source": [
        "for i in range(1,11):\n",
        "\tprint (7,\" * \", i , \" = \", i * 7)\n",
        "print(\"                             \")\n",
        "for i in range(1,11):\n",
        "\tprint (9,\" * \", i , \" = \", i * 9)"
      ],
      "metadata": {
        "colab": {
          "base_uri": "https://localhost:8080/"
        },
        "id": "yV_KVywZ6oh5",
        "outputId": "348d94c4-ba15-46de-fb5d-c7c10497031f"
      },
      "execution_count": 8,
      "outputs": [
        {
          "output_type": "stream",
          "name": "stdout",
          "text": [
            "7  *  1  =  7\n",
            "7  *  2  =  14\n",
            "7  *  3  =  21\n",
            "7  *  4  =  28\n",
            "7  *  5  =  35\n",
            "7  *  6  =  42\n",
            "7  *  7  =  49\n",
            "7  *  8  =  56\n",
            "7  *  9  =  63\n",
            "7  *  10  =  70\n",
            "                             \n",
            "9  *  1  =  9\n",
            "9  *  2  =  18\n",
            "9  *  3  =  27\n",
            "9  *  4  =  36\n",
            "9  *  5  =  45\n",
            "9  *  6  =  54\n",
            "9  *  7  =  63\n",
            "9  *  8  =  72\n",
            "9  *  9  =  81\n",
            "9  *  10  =  90\n"
          ]
        }
      ]
    },
    {
      "cell_type": "code",
      "source": [
        "n=input(\"Enter the table you want to print: \")\n",
        "for i in range(1,11):\n",
        "\tprint (n,\" * \", i , \" = \", i * int(n))"
      ],
      "metadata": {
        "colab": {
          "base_uri": "https://localhost:8080/"
        },
        "id": "tGpGRhU226Sl",
        "outputId": "ce2aa305-c207-480d-8186-92887f7347d2"
      },
      "execution_count": 9,
      "outputs": [
        {
          "output_type": "stream",
          "name": "stdout",
          "text": [
            "Enter the table you want to print: 8\n",
            "8  *  1  =  8\n",
            "8  *  2  =  16\n",
            "8  *  3  =  24\n",
            "8  *  4  =  32\n",
            "8  *  5  =  40\n",
            "8  *  6  =  48\n",
            "8  *  7  =  56\n",
            "8  *  8  =  64\n",
            "8  *  9  =  72\n",
            "8  *  10  =  80\n"
          ]
        }
      ]
    },
    {
      "cell_type": "code",
      "source": [
        "n = int(input(\"Enter the number: \"))\n",
        "sum= 0\n",
        "for i in range(1, n + 1):\n",
        "  sum+= i\n",
        "print(sum)"
      ],
      "metadata": {
        "colab": {
          "base_uri": "https://localhost:8080/"
        },
        "id": "MPqeUhjr3QHH",
        "outputId": "cd4cbfe9-67da-4fd2-f80b-bf4cb77a5e2f"
      },
      "execution_count": 13,
      "outputs": [
        {
          "output_type": "stream",
          "name": "stdout",
          "text": [
            "Enter the number: 7\n",
            "28\n"
          ]
        }
      ]
    },
    {
      "cell_type": "markdown",
      "source": [
        "Ques 4"
      ],
      "metadata": {
        "id": "ojHDuq9n4Kk-"
      }
    },
    {
      "cell_type": "code",
      "source": [
        "a= int(input(\"Enter first number: \"))\n",
        "b= int(input(\"Enter second number: \"))\n",
        "c= int(input(\"Enter third number: \"))\n",
        "maximum = max(a,b,c)\n",
        "print(\"maximum number is:\", maximum)"
      ],
      "metadata": {
        "colab": {
          "base_uri": "https://localhost:8080/"
        },
        "id": "7YVPZ5PJ4RP7",
        "outputId": "8d6de800-06e9-4220-ebb6-f1eae8e19e10"
      },
      "execution_count": 8,
      "outputs": [
        {
          "output_type": "stream",
          "name": "stdout",
          "text": [
            "Enter first number: 5\n",
            "Enter second number: 6\n",
            "Enter third number: 8\n",
            "maximum number is: 8\n"
          ]
        }
      ]
    },
    {
      "cell_type": "code",
      "source": [
        "def sum1(n):\n",
        "  sum2=0\n",
        "  for i in range(1,n+1):\n",
        "    if i % 7 == 0 and i % 9 == 0:\n",
        "      sum2+= i\n",
        "  return sum2\n",
        "\n",
        "n=int(input(\"Enter the value of n: \"))\n",
        "print(sum1(n))\n"
      ],
      "metadata": {
        "colab": {
          "base_uri": "https://localhost:8080/"
        },
        "id": "Q_GSWY9w4oeT",
        "outputId": "48fdb65c-6d74-4878-aa06-2411afb55709"
      },
      "execution_count": 5,
      "outputs": [
        {
          "output_type": "stream",
          "name": "stdout",
          "text": [
            "Enter the value of n: 56\n",
            "0\n"
          ]
        }
      ]
    },
    {
      "cell_type": "code",
      "source": [
        "def is_prime(num):\n",
        "    if num<=1:\n",
        "        return False\n",
        "    for i in range(2, int(num**0.5) + 1):\n",
        "        if num % i == 0:\n",
        "            return False\n",
        "    return True\n",
        "\n",
        "def sum(n):\n",
        "    total=0\n",
        "    for i in range(2, n + 1):\n",
        "        if is_prime(i):\n",
        "            total += i\n",
        "    return total\n",
        "\n",
        "n = int(input(\"Enter the value of n: \"))\n",
        "print(sum(n))"
      ],
      "metadata": {
        "colab": {
          "base_uri": "https://localhost:8080/"
        },
        "id": "uD3NIbAK4z7a",
        "outputId": "32d1ff3f-f2fa-4bc5-fe59-1c2004812d21"
      },
      "execution_count": 4,
      "outputs": [
        {
          "output_type": "stream",
          "name": "stdout",
          "text": [
            "Enter the value of n: 56\n",
            "381\n"
          ]
        }
      ]
    },
    {
      "cell_type": "code",
      "source": [
        "def sum(n):\n",
        "  total = 0\n",
        "  for i in range(1,n+1,2):\n",
        "    total += i\n",
        "  return total\n",
        "\n",
        "n = int(input(\"Enter the value of n: \"))\n",
        "print(sum(n))"
      ],
      "metadata": {
        "colab": {
          "base_uri": "https://localhost:8080/"
        },
        "id": "sdZVYTpjkxT5",
        "outputId": "2bd798f3-cc36-4753-8a7d-be954e5148be"
      },
      "execution_count": 6,
      "outputs": [
        {
          "output_type": "stream",
          "name": "stdout",
          "text": [
            "Enter the value of n: 56\n",
            "784\n"
          ]
        }
      ]
    }
  ]
}