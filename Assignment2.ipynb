{
  "nbformat": 4,
  "nbformat_minor": 0,
  "metadata": {
    "colab": {
      "provenance": [],
      "authorship_tag": "ABX9TyNdh113dEMLJOS/bSx6WoID",
      "include_colab_link": true
    },
    "kernelspec": {
      "name": "python3",
      "display_name": "Python 3"
    },
    "language_info": {
      "name": "python"
    }
  },
  "cells": [
    {
      "cell_type": "markdown",
      "metadata": {
        "id": "view-in-github",
        "colab_type": "text"
      },
      "source": [
        "<a href=\"https://colab.research.google.com/github/Hk05101/Cognitive-Computing/blob/main/Assignment2.ipynb\" target=\"_parent\"><img src=\"https://colab.research.google.com/assets/colab-badge.svg\" alt=\"Open In Colab\"/></a>"
      ]
    },
    {
      "cell_type": "code",
      "execution_count": 1,
      "metadata": {
        "colab": {
          "base_uri": "https://localhost:8080/"
        },
        "id": "iBJHI0p6lyrL",
        "outputId": "963eee8d-d3f4-488f-c27c-fecaa5744951"
      },
      "outputs": [
        {
          "output_type": "stream",
          "name": "stdout",
          "text": [
            "The og list is [10, 20, 30, 40, 50, 60, 70, 80]\n",
            "After adding 200 qnd 300 [10, 20, 30, 40, 50, 60, 70, 80, 200, 300]\n",
            "The list after deleting 10 nd 30 is [20, 30, 50, 60, 70, 80, 200, 300]\n",
            "Ascending order [20, 30, 50, 60, 70, 80, 200, 300]\n",
            "Descending order [300, 200, 80, 70, 60, 50, 30, 20]\n"
          ]
        }
      ],
      "source": [
        "L=[10,20,30,40,50,60,70,80]\n",
        "print(\"The og list is\",L)\n",
        "L.append(200)\n",
        "L.append(300)\n",
        "print(\"After adding 200 qnd 300\",L)\n",
        "del L[0]\n",
        "del L[2]\n",
        "print(\"The list after deleting 10 nd 30 is\",L)\n",
        "L.sort()\n",
        "print(\"Ascending order\",L)\n",
        "L.sort(reverse=True)\n",
        "print(\"Descending order\",L)"
      ]
    },
    {
      "cell_type": "code",
      "source": [
        "tup=(45,89.5,76,45.4,89,92,58,45)\n",
        "m=max(tup)\n",
        "i=tup.index(m)\n",
        "print(i)\n",
        "l=min(tup)\n",
        "tup.count(l)\n",
        "tup[::-1]\n",
        "l=list(tup)\n",
        "print(l)"
      ],
      "metadata": {
        "colab": {
          "base_uri": "https://localhost:8080/"
        },
        "id": "xN0OxAQkl8to",
        "outputId": "c2cce49b-5c25-4a41-95bc-ba47535bdd99"
      },
      "execution_count": 2,
      "outputs": [
        {
          "output_type": "stream",
          "name": "stdout",
          "text": [
            "5\n",
            "[45, 89.5, 76, 45.4, 89, 92, 58, 45]\n"
          ]
        }
      ]
    },
    {
      "cell_type": "code",
      "source": [
        "import random as r\n",
        "count=0\n",
        "count1=0\n",
        "random_num=[r.randint(100,900) for _ in range(100)]\n",
        "print(random_num)\n",
        "for i in range(len(random_num)):\n",
        "    if(random_num[i]%2==0):\n",
        "        print(\"Even number:\",random_num[i])\n",
        "        count1=count1+1\n",
        "    else:\n",
        "        print(\"odd number:\",random_num[i])\n",
        "        count=count+1\n",
        "\n",
        "print(\"Odd numbers are\",count)\n",
        "print(\"Even numbers are\",count1)"
      ],
      "metadata": {
        "colab": {
          "base_uri": "https://localhost:8080/"
        },
        "id": "GWkFBKdkmCsJ",
        "outputId": "c3fae72f-2752-417d-c938-bc067a1dab66"
      },
      "execution_count": 3,
      "outputs": [
        {
          "output_type": "stream",
          "name": "stdout",
          "text": [
            "[863, 392, 543, 188, 797, 212, 580, 503, 801, 819, 451, 605, 690, 144, 224, 130, 205, 328, 886, 675, 372, 503, 458, 569, 269, 440, 572, 567, 660, 695, 621, 713, 502, 388, 242, 184, 658, 753, 602, 407, 390, 327, 599, 783, 489, 592, 437, 554, 208, 855, 776, 351, 109, 566, 161, 578, 468, 493, 674, 342, 702, 151, 380, 478, 791, 750, 815, 390, 132, 582, 406, 368, 123, 444, 287, 691, 265, 395, 301, 821, 231, 865, 503, 707, 644, 509, 426, 840, 419, 463, 109, 333, 869, 243, 480, 777, 185, 438, 897, 647]\n",
            "odd number: 863\n",
            "Even number: 392\n",
            "odd number: 543\n",
            "Even number: 188\n",
            "odd number: 797\n",
            "Even number: 212\n",
            "Even number: 580\n",
            "odd number: 503\n",
            "odd number: 801\n",
            "odd number: 819\n",
            "odd number: 451\n",
            "odd number: 605\n",
            "Even number: 690\n",
            "Even number: 144\n",
            "Even number: 224\n",
            "Even number: 130\n",
            "odd number: 205\n",
            "Even number: 328\n",
            "Even number: 886\n",
            "odd number: 675\n",
            "Even number: 372\n",
            "odd number: 503\n",
            "Even number: 458\n",
            "odd number: 569\n",
            "odd number: 269\n",
            "Even number: 440\n",
            "Even number: 572\n",
            "odd number: 567\n",
            "Even number: 660\n",
            "odd number: 695\n",
            "odd number: 621\n",
            "odd number: 713\n",
            "Even number: 502\n",
            "Even number: 388\n",
            "Even number: 242\n",
            "Even number: 184\n",
            "Even number: 658\n",
            "odd number: 753\n",
            "Even number: 602\n",
            "odd number: 407\n",
            "Even number: 390\n",
            "odd number: 327\n",
            "odd number: 599\n",
            "odd number: 783\n",
            "odd number: 489\n",
            "Even number: 592\n",
            "odd number: 437\n",
            "Even number: 554\n",
            "Even number: 208\n",
            "odd number: 855\n",
            "Even number: 776\n",
            "odd number: 351\n",
            "odd number: 109\n",
            "Even number: 566\n",
            "odd number: 161\n",
            "Even number: 578\n",
            "Even number: 468\n",
            "odd number: 493\n",
            "Even number: 674\n",
            "Even number: 342\n",
            "Even number: 702\n",
            "odd number: 151\n",
            "Even number: 380\n",
            "Even number: 478\n",
            "odd number: 791\n",
            "Even number: 750\n",
            "odd number: 815\n",
            "Even number: 390\n",
            "Even number: 132\n",
            "Even number: 582\n",
            "Even number: 406\n",
            "Even number: 368\n",
            "odd number: 123\n",
            "Even number: 444\n",
            "odd number: 287\n",
            "odd number: 691\n",
            "odd number: 265\n",
            "odd number: 395\n",
            "odd number: 301\n",
            "odd number: 821\n",
            "odd number: 231\n",
            "odd number: 865\n",
            "odd number: 503\n",
            "odd number: 707\n",
            "Even number: 644\n",
            "odd number: 509\n",
            "Even number: 426\n",
            "Even number: 840\n",
            "odd number: 419\n",
            "odd number: 463\n",
            "odd number: 109\n",
            "odd number: 333\n",
            "odd number: 869\n",
            "odd number: 243\n",
            "Even number: 480\n",
            "odd number: 777\n",
            "odd number: 185\n",
            "Even number: 438\n",
            "odd number: 897\n",
            "odd number: 647\n",
            "Odd numbers are 54\n",
            "Even numbers are 46\n"
          ]
        }
      ]
    },
    {
      "cell_type": "code",
      "source": [
        "import random as r\n",
        "random_num = [r.randint(100, 900) for _ in range(100)]\n",
        "print(random_num)\n",
        "def is_prime(num):\n",
        "    if num <= 1:\n",
        "        return False\n",
        "    for i in range(2, (num // 2) + 1):\n",
        "        if num % i == 0:\n",
        "            return False\n",
        "    return True\n",
        "prime_numbers = [num for num in random_num if is_prime(num)]\n",
        "print(\"Prime numbers in the list:\", prime_numbers)"
      ],
      "metadata": {
        "colab": {
          "base_uri": "https://localhost:8080/"
        },
        "id": "RFu56ND_mIGs",
        "outputId": "6052d9fa-c8a9-4181-ebec-6b5952beff9e"
      },
      "execution_count": 4,
      "outputs": [
        {
          "output_type": "stream",
          "name": "stdout",
          "text": [
            "[732, 435, 343, 779, 283, 434, 895, 335, 693, 506, 412, 391, 394, 825, 797, 206, 499, 712, 480, 778, 301, 501, 692, 632, 454, 610, 662, 604, 604, 392, 508, 407, 266, 305, 228, 644, 466, 496, 589, 438, 738, 223, 722, 732, 362, 478, 135, 387, 252, 618, 378, 438, 652, 767, 238, 852, 875, 408, 307, 689, 100, 673, 572, 489, 118, 883, 474, 613, 196, 238, 221, 689, 435, 115, 876, 130, 669, 770, 816, 718, 357, 842, 396, 133, 401, 892, 641, 172, 562, 710, 405, 381, 286, 480, 840, 395, 262, 652, 162, 465]\n",
            "Prime numbers in the list: [283, 797, 499, 223, 307, 673, 883, 613, 401, 641]\n"
          ]
        }
      ]
    },
    {
      "cell_type": "code",
      "source": [
        "A={34,56,78,90}\n",
        "B={78,45,90,23}\n",
        "print(\"scores that are Union \",A.union(B))\n",
        "print(\"Scores that are intersection are\",A.intersection(B))\n",
        "print(\"Scores that are exclusive are\",A.symmetric_difference(B))\n",
        "\n",
        "num=int(input(\"Please enter a number\"))\n",
        "if num in A:\n",
        "    A.remove(num)\n",
        "else:\n",
        "    print(\"Number not in A\")\n",
        "\n",
        "print(A)"
      ],
      "metadata": {
        "colab": {
          "base_uri": "https://localhost:8080/"
        },
        "id": "RMUvmS-LmMSA",
        "outputId": "11313890-5739-48dc-abe7-ab621e9484fc"
      },
      "execution_count": 5,
      "outputs": [
        {
          "output_type": "stream",
          "name": "stdout",
          "text": [
            "scores that are Union  {34, 45, 78, 23, 56, 90}\n",
            "Scores that are intersection are {90, 78}\n",
            "Scores that are exclusive are {34, 45, 23, 56}\n",
            "Please enter a number45\n",
            "Number not in A\n",
            "{56, 34, 90, 78}\n"
          ]
        }
      ]
    },
    {
      "cell_type": "code",
      "source": [
        "A={34,56,78,90}\n",
        "B={78,45,90,23}\n",
        "print(A.issubset(B))\n",
        "print(B.issuperset(A))"
      ],
      "metadata": {
        "colab": {
          "base_uri": "https://localhost:8080/"
        },
        "id": "xNuy7tGVmckM",
        "outputId": "1a5e3ef5-b1b8-4940-dcdf-c9d3bb6fcbe7"
      },
      "execution_count": 6,
      "outputs": [
        {
          "output_type": "stream",
          "name": "stdout",
          "text": [
            "False\n",
            "False\n"
          ]
        }
      ]
    },
    {
      "cell_type": "code",
      "source": [
        "sample_dict = {\"name\": \"kelly\", \"age\": 25, \"salary\": 8000, \"city\": \"New York\"}\n",
        "if \"city\" in sample_dict:\n",
        "    sample_dict[\"location\"] = sample_dict.pop(\"city\")\n",
        "print(sample_dict)"
      ],
      "metadata": {
        "colab": {
          "base_uri": "https://localhost:8080/"
        },
        "id": "mtqY0GI0md4u",
        "outputId": "3b4aa61f-9c7c-4ee1-c1bd-0aa492d1d830"
      },
      "execution_count": 7,
      "outputs": [
        {
          "output_type": "stream",
          "name": "stdout",
          "text": [
            "{'name': 'kelly', 'age': 25, 'salary': 8000, 'location': 'New York'}\n"
          ]
        }
      ]
    }
  ]
}