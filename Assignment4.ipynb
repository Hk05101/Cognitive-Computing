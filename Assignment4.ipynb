{
  "nbformat": 4,
  "nbformat_minor": 0,
  "metadata": {
    "colab": {
      "provenance": [],
      "authorship_tag": "ABX9TyMOsvgN+tof1Uwqz5KFBD9+",
      "include_colab_link": true
    },
    "kernelspec": {
      "name": "python3",
      "display_name": "Python 3"
    },
    "language_info": {
      "name": "python"
    }
  },
  "cells": [
    {
      "cell_type": "markdown",
      "metadata": {
        "id": "view-in-github",
        "colab_type": "text"
      },
      "source": [
        "<a href=\"https://colab.research.google.com/github/Hk05101/Cognitive-Computing/blob/main/Assignment4.ipynb\" target=\"_parent\"><img src=\"https://colab.research.google.com/assets/colab-badge.svg\" alt=\"Open In Colab\"/></a>"
      ]
    },
    {
      "cell_type": "code",
      "execution_count": 1,
      "metadata": {
        "colab": {
          "base_uri": "https://localhost:8080/"
        },
        "id": "rhHkwpKds7D8",
        "outputId": "661eb93d-7b3f-4b18-a6d4-91a00537dc7b"
      },
      "outputs": [
        {
          "output_type": "stream",
          "name": "stdout",
          "text": [
            "Original array answer - [ 2  4  6  8 10]\n",
            "after adding 2 answer - [ 4  6  8 10 12]\n",
            "after multiplying 3 answer -  [ 6 12 18 24 30]\n",
            "after dividing with 2 answer - [1. 2. 3. 4. 5.]\n"
          ]
        }
      ],
      "source": [
        "import numpy as np\n",
        "arr=np.array([2,4,6,8,10])\n",
        "print(\"Original array answer -\",arr)\n",
        "print(\"after adding 2 answer -\",arr+2)\n",
        "print(\"after multiplying 3 answer - \",arr*3)\n",
        "print(\"after dividing with 2 answer -\",arr/2)"
      ]
    },
    {
      "cell_type": "code",
      "source": [
        "import numpy as np\n",
        "\n",
        "nums = np.array([1, 2, 3, 6, 4, 5])\n",
        "print(\"(a) Reversed array:\", np.flip(nums))\n",
        "print(\"\\n\")\n",
        "arr1 = np.array([1, 2, 3, 4, 5, 1, 2, 1, 1, 1])\n",
        "arr2 = np.array([1, 1, 1, 2, 3, 4, 2, 4, 3, 3])\n",
        "print(\"(b) First list of numbers:\", arr1)\n",
        "freq = np.bincount(arr1)\n",
        "print(\"Occurrences of each number (0 to 5):\", freq)\n",
        "max_freq_num = np.argmax(freq)\n",
        "print(\"Number with the highest occurrence:\", max_freq_num)\n",
        "pos = np.where(arr1 == max_freq_num)[0]\n",
        "print(\"Indexes where\", max_freq_num, \"appears:\", pos)\n",
        "print(\"\\n\")\n",
        "print(\"Second list of numbers:\", arr2)\n",
        "freq2 = np.bincount(arr2)\n",
        "print(\"Occurrences of each number (0 to 4):\", freq2)\n",
        "max_freq_num2 = np.argmax(freq)\n",
        "print(\"Number with the highest occurrence in second list:\", max_freq_num2)\n",
        "pos2 = np.where(arr2 == max_freq_num2)[0]\n",
        "print(\"Indexes where\", max_freq_num2, \"appears:\", pos2)"
      ],
      "metadata": {
        "colab": {
          "base_uri": "https://localhost:8080/"
        },
        "id": "dYEn7O9zs-7H",
        "outputId": "d157b478-5b4f-4a37-a390-cbca5e84a1b3"
      },
      "execution_count": 2,
      "outputs": [
        {
          "output_type": "stream",
          "name": "stdout",
          "text": [
            "(a) Reversed array: [5 4 6 3 2 1]\n",
            "\n",
            "\n",
            "(b) First list of numbers: [1 2 3 4 5 1 2 1 1 1]\n",
            "Occurrences of each number (0 to 5): [0 5 2 1 1 1]\n",
            "Number with the highest occurrence: 1\n",
            "Indexes where 1 appears: [0 5 7 8 9]\n",
            "\n",
            "\n",
            "Second list of numbers: [1 1 1 2 3 4 2 4 3 3]\n",
            "Occurrences of each number (0 to 4): [0 3 2 3 2]\n",
            "Number with the highest occurrence in second list: 1\n",
            "Indexes where 1 appears: [0 1 2]\n"
          ]
        }
      ]
    },
    {
      "cell_type": "code",
      "source": [
        "arr=np.array([[10, 20, 30], [40, 50, 60], [70, 80, 90]])\n",
        "print(arr)\n",
        "print(\"Element at first row and second column:\",arr[0,1])\n",
        "print(\"Element at third row and first column:\",arr[2,0])"
      ],
      "metadata": {
        "colab": {
          "base_uri": "https://localhost:8080/"
        },
        "id": "X3ITtYXftDq-",
        "outputId": "fb84d9e8-2c04-4fab-cfae-4cb3c9f2e912"
      },
      "execution_count": 3,
      "outputs": [
        {
          "output_type": "stream",
          "name": "stdout",
          "text": [
            "[[10 20 30]\n",
            " [40 50 60]\n",
            " [70 80 90]]\n",
            "Element at first row and second column: 20\n",
            "Element at third row and first column: 70\n"
          ]
        }
      ]
    },
    {
      "cell_type": "code",
      "source": [
        "import numpy as np\n",
        "noor=np.linspace(10,100,25)\n",
        "print(\"The array is:\",noor)\n",
        "print(\"Dimensions of array:\",noor.ndim)\n",
        "print(\"Shape of array:\",noor.shape)\n",
        "print(\"Size of array:\",noor.size)\n",
        "print(\"Data-type of elements:\",noor.dtype)\n",
        "print(\"Total bytes consumed:\",noor.nbytes)\n",
        "transpose=noor.reshape(25,1)\n",
        "print(\"Transpose of array:\",transpose)\n",
        "transpose_T=noor.T\n",
        "print(\"Transpose using T attribute:\",transpose_T)\n",
        "print(\"Does transpose and transpose_T give same result?\",np.array_equal(transpose,transpose_T))"
      ],
      "metadata": {
        "colab": {
          "base_uri": "https://localhost:8080/"
        },
        "id": "1cru8kjEtGrI",
        "outputId": "deb05b8a-b576-4b0d-9008-79bd60c6bca0"
      },
      "execution_count": 4,
      "outputs": [
        {
          "output_type": "stream",
          "name": "stdout",
          "text": [
            "The array is: [ 10.    13.75  17.5   21.25  25.    28.75  32.5   36.25  40.    43.75\n",
            "  47.5   51.25  55.    58.75  62.5   66.25  70.    73.75  77.5   81.25\n",
            "  85.    88.75  92.5   96.25 100.  ]\n",
            "Dimensions of array: 1\n",
            "Shape of array: (25,)\n",
            "Size of array: 25\n",
            "Data-type of elements: float64\n",
            "Total bytes consumed: 200\n",
            "Transpose of array: [[ 10.  ]\n",
            " [ 13.75]\n",
            " [ 17.5 ]\n",
            " [ 21.25]\n",
            " [ 25.  ]\n",
            " [ 28.75]\n",
            " [ 32.5 ]\n",
            " [ 36.25]\n",
            " [ 40.  ]\n",
            " [ 43.75]\n",
            " [ 47.5 ]\n",
            " [ 51.25]\n",
            " [ 55.  ]\n",
            " [ 58.75]\n",
            " [ 62.5 ]\n",
            " [ 66.25]\n",
            " [ 70.  ]\n",
            " [ 73.75]\n",
            " [ 77.5 ]\n",
            " [ 81.25]\n",
            " [ 85.  ]\n",
            " [ 88.75]\n",
            " [ 92.5 ]\n",
            " [ 96.25]\n",
            " [100.  ]]\n",
            "Transpose using T attribute: [ 10.    13.75  17.5   21.25  25.    28.75  32.5   36.25  40.    43.75\n",
            "  47.5   51.25  55.    58.75  62.5   66.25  70.    73.75  77.5   81.25\n",
            "  85.    88.75  92.5   96.25 100.  ]\n",
            "Does transpose and transpose_T give same result? False\n"
          ]
        }
      ]
    },
    {
      "cell_type": "code",
      "source": [
        "import numpy as np\n",
        "ucs420_noor=np.array([[10,20,30,40],[50,60,70,80],[90,15,20,35]])\n",
        "print(\"The array is:\",ucs420_noor)\n",
        "print(\"Mean of elements:\",np.mean(ucs420_noor))\n",
        "print(\"Median of elements:\",np.median(ucs420_noor))\n",
        "print(\"Maximum element is:\",np.max(ucs420_noor))\n",
        "print(\"Minimum element is:\",np.min(ucs420_noor))\n",
        "print(\"Unique element is:\",np.unique(ucs420_noor))\n",
        "reshaped_ucs420_noor=ucs420_noor.reshape(4,3)\n",
        "print(\"Reshaped array:\",reshaped_ucs420_noor)\n",
        "resized_ucs420_noor=np.resize(ucs420_noor,(2,3))\n",
        "print(\"Resized array:\",resized_ucs420_noor)"
      ],
      "metadata": {
        "colab": {
          "base_uri": "https://localhost:8080/"
        },
        "id": "WZaRWjNItdfq",
        "outputId": "74b5a944-8b05-4ff8-cf5a-4c1192993be1"
      },
      "execution_count": 5,
      "outputs": [
        {
          "output_type": "stream",
          "name": "stdout",
          "text": [
            "The array is: [[10 20 30 40]\n",
            " [50 60 70 80]\n",
            " [90 15 20 35]]\n",
            "Mean of elements: 43.333333333333336\n",
            "Median of elements: 37.5\n",
            "Maximum element is: 90\n",
            "Minimum element is: 10\n",
            "Unique element is: [10 15 20 30 35 40 50 60 70 80 90]\n",
            "Reshaped array: [[10 20 30]\n",
            " [40 50 60]\n",
            " [70 80 90]\n",
            " [15 20 35]]\n",
            "Resized array: [[10 20 30]\n",
            " [40 50 60]]\n"
          ]
        }
      ]
    }
  ]
}